{
 "cells": [
  {
   "cell_type": "code",
   "execution_count": 1,
   "metadata": {},
   "outputs": [],
   "source": [
    "import os\n",
    "import nest_asyncio\n",
    "nest_asyncio.apply()\n",
    "\n",
    "from dotenv import load_dotenv\n",
    "load_dotenv(dotenv_path=\"/teamspace/studios/this_studio/groq-chatbot/.env\")\n",
    "\n",
    "llamaparseApi= os.getenv(\"LLAMA_CLOUD_API_KEY\")\n",
    "groqApi= os.getenv(\"GROQ_API\")\n",
    "qdrantApi= os.getenv(\"QDRANT_API_KEY\")\n",
    "qdrantUrl= os.getenv(\"QDRANT_URL\")"
   ]
  },
  {
   "cell_type": "code",
   "execution_count": 3,
   "metadata": {},
   "outputs": [],
   "source": [
    "from llama_parse import LlamaParse\n",
    "from langchain_community.document_loaders import DirectoryLoader\n",
    "from langchain_community.embeddings.fastembed import FastEmbedEmbeddings\n",
    "from langchain_community.vectorstores import Qdrant\n",
    "import pickle\n",
    "\n",
    "\n",
    "def loadOrParseData():\n",
    "    dataFile= \"./parsedData.pkl\"\n",
    "\n",
    "    if os.path.exists(dataFile):\n",
    "        with open(dataFile, \"rb\") as f:\n",
    "            parsedData= pickle.load(f)\n",
    "\n",
    "    else:\n",
    "        parsingInstruction = \"\"\"The provided document is the syllabus of B. Tech for Computer Science & Engineering (CSE) of NIT- Delhi. \n",
    "        This form provides details of the subject courses that will be taught to a student of B. Tech, Computer Science & Engineering in NIT- Delhi.\n",
    "        Try to be precise while answering the questions\"\"\"\n",
    "        parser = LlamaParse(api_key=llamaparseApi, result_type=\"markdown\", parsing_instruction=parsingInstruction)\n",
    "        llama_parse_documents = parser.load_data(\"./syllabusCSE.pdf\")\n",
    "\n",
    "        with open(dataFile, \"wb\") as f:\n",
    "            pickle.dump(llama_parse_documents, f)\n",
    "\n",
    "        parsedData = llama_parse_documents\n",
    "\n",
    "    return parsedData\n",
    "\n",
    "parsedData= loadOrParseData()"
   ]
  },
  {
   "cell_type": "code",
   "execution_count": 4,
   "metadata": {},
   "outputs": [],
   "source": [
    "markdownFile= \"./output.md\"\n",
    "\n",
    "def clean_file(input_path, output_path):\n",
    "    parsed_data = loadOrParseData()\n",
    "\n",
    "    if not os.path.exists(markdownFile):\n",
    "        with open(markdownFile, 'a', encoding='utf-8', errors='replace') as f:\n",
    "            for doc in parsed_data:\n",
    "                f.write(doc.text + '\\n')\n",
    "\n",
    "    with open(input_path, 'rb') as f:\n",
    "        content = f.read()\n",
    "\n",
    "    with open(output_path, 'w', encoding='utf-8', errors='ignore') as f:\n",
    "        f.write(content.decode('utf-8', errors='ignore'))\n",
    "\n",
    "# Clean the file before using it\n",
    "clean_file(markdownFile, 'cleaned_output.md')"
   ]
  },
  {
   "cell_type": "code",
   "execution_count": 12,
   "metadata": {},
   "outputs": [
    {
     "name": "stdout",
     "output_type": "stream",
     "text": [
      "Vector DB created successfully!\n"
     ]
    }
   ],
   "source": [
    "from langchain.text_splitter import RecursiveCharacterTextSplitter\n",
    "from langchain_community.document_loaders import UnstructuredMarkdownLoader\n",
    "from langchain_community.embeddings import OllamaEmbeddings\n",
    "# import nltk\n",
    "# nltk.download()\n",
    "\n",
    "\n",
    "def vectorDB():\n",
    "    parsed_data = loadOrParseData()\n",
    "    markdownFile= \"./cleaned_output.md\"\n",
    "\n",
    "    if parsed_data is None:\n",
    "        print(\"No parsed data available.\")\n",
    "        return\n",
    "    \n",
    "    # if not os.path.exists(markdownFile):\n",
    "    #     with open(markdownFile, 'a', encoding='utf-8', errors='replace') as f:\n",
    "    #         for doc in parsed_data:\n",
    "    #             f.write(doc.text + '\\n')\n",
    "\n",
    "\n",
    "    # loader = DirectoryLoader('./', glob=\"**/*.md\", show_progress=True)\n",
    "    # documents = loader.load()\n",
    "\n",
    "    markdownLoader= UnstructuredMarkdownLoader(markdownFile)\n",
    "    documents= markdownLoader.load()\n",
    "    \n",
    "    textSplitter = RecursiveCharacterTextSplitter(chunk_size=2000, chunk_overlap=100)\n",
    "    docs = textSplitter.split_documents(documents)\n",
    "\n",
    "    # embeddings = FastEmbedEmbeddings()\n",
    "    embeddings = OllamaEmbeddings(\n",
    "        model=\"znbang/bge:small-en-v1.5-f16\",\n",
    "        base_url=\"http://localhost:11434\"\n",
    "    )\n",
    "\n",
    "    qdrant = Qdrant.from_documents(\n",
    "        documents=docs,\n",
    "        embedding= embeddings,\n",
    "        api_key= qdrantApi,\n",
    "        url= qdrantUrl,\n",
    "        collection_name= \"rag\"\n",
    "    )\n",
    "\n",
    "    print('Vector DB created successfully!')\n",
    "\n",
    "vectorDB()"
   ]
  },
  {
   "cell_type": "code",
   "execution_count": 15,
   "metadata": {},
   "outputs": [
    {
     "data": {
      "text/plain": [
       "[-0.4520740807056427,\n",
       " 0.027799703180789948,\n",
       " 0.08549992740154266,\n",
       " -0.8991678357124329,\n",
       " -0.021244749426841736,\n",
       " -0.4902018904685974,\n",
       " -0.4642481207847595,\n",
       " 0.09723646938800812,\n",
       " 0.22709813714027405,\n",
       " -0.27400046586990356]"
      ]
     },
     "execution_count": 15,
     "metadata": {},
     "output_type": "execute_result"
    }
   ],
   "source": [
    "from langchain_community.embeddings import OllamaEmbeddings\n",
    "\n",
    "text= \"What is the syllabus of Operating System?\"\n",
    "embeddings = OllamaEmbeddings(\n",
    "        model=\"znbang/bge:small-en-v1.5-f16\",\n",
    "        base_url=\"http://localhost:11434\"\n",
    "    )\n",
    "queryRes= embeddings.embed_query(text)\n",
    "queryRes[:10]"
   ]
  }
 ],
 "metadata": {
  "kernelspec": {
   "display_name": ".venv",
   "language": "python",
   "name": "python3"
  },
  "language_info": {
   "codemirror_mode": {
    "name": "ipython",
    "version": 3
   },
   "file_extension": ".py",
   "mimetype": "text/x-python",
   "name": "python",
   "nbconvert_exporter": "python",
   "pygments_lexer": "ipython3",
   "version": "3.12.6"
  }
 },
 "nbformat": 4,
 "nbformat_minor": 2
}
